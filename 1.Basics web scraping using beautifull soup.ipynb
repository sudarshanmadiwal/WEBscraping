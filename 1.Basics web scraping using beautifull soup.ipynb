{
 "cells": [
  {
   "cell_type": "markdown",
   "metadata": {},
   "source": [
    "### web scraping\n",
    "web scraping is the practice of gathering data through any means other\n",
    "than a program interacting with an API (or, obviously, through a human using a web\n",
    "browser). \n",
    "\n",
    "This is most commonly accomplished by writing an automated program\n",
    "that queries a web server, requests data (usually in the form of the HTMLand other\n",
    "files that comprise web pages), and then parses that data to extract needed\n",
    "information."
   ]
  },
  {
   "cell_type": "code",
   "execution_count": 1,
   "metadata": {},
   "outputs": [],
   "source": [
    "## Read the html.html file\n",
    "path=r\"required files\\html.html\"\n",
    "con=open(path,\"r\")\n",
    "data=con.read()\n",
    "con.close()"
   ]
  },
  {
   "cell_type": "code",
   "execution_count": 2,
   "metadata": {},
   "outputs": [
    {
     "name": "stdout",
     "output_type": "stream",
     "text": [
      "<!DOCTYPE html>\n",
      "\n",
      "<html>\n",
      "    <head>\n",
      "        <title>GETTING STARTED WITH bs4</title>\n",
      "    </head>\n",
      "    <body>\n",
      "        <div class=\"para 1\">\n",
      "            <p>\n",
      "                This is paragraph one\n",
      "            </p>\n",
      "            <p>\n",
      "                This is paragraph two\n",
      "            </p>\n",
      "        </div>\n",
      "        <div class='para 2'>\n",
      "            <p>\n",
      "                This is para 1 in div 2\n",
      "            </p>\n",
      "        </div>\n",
      "        <div class=\"para 1\">\n",
      "            <p>\n",
      "                This is paragraph three of div with class para 1\n",
      "            </p>\n",
      "            <p>\n",
      "                This is paragraph four of div with class para 1\n",
      "            </p>\n",
      "        </div>\n",
      "    </body>\n",
      "</html>\n"
     ]
    }
   ],
   "source": [
    "print(data)"
   ]
  },
  {
   "cell_type": "code",
   "execution_count": 3,
   "metadata": {},
   "outputs": [
    {
     "data": {
      "text/plain": [
       "str"
      ]
     },
     "execution_count": 3,
     "metadata": {},
     "output_type": "execute_result"
    }
   ],
   "source": [
    "type(data)"
   ]
  },
  {
   "cell_type": "markdown",
   "metadata": {},
   "source": [
    "#### Beautiful Soup is a Python library for pulling data out of HTML and XML files. It works with your favorite parser to provide idiomatic ways of navigating, searching, and modifying the parse tree. It commonly saves programmers hours or days of work."
   ]
  },
  {
   "cell_type": "code",
   "execution_count": 4,
   "metadata": {},
   "outputs": [],
   "source": [
    "from bs4 import BeautifulSoup"
   ]
  },
  {
   "cell_type": "code",
   "execution_count": 5,
   "metadata": {},
   "outputs": [],
   "source": [
    "parsed_markup=BeautifulSoup(data,'html.parser')"
   ]
  },
  {
   "cell_type": "code",
   "execution_count": 6,
   "metadata": {},
   "outputs": [
    {
     "data": {
      "text/plain": [
       "bs4.BeautifulSoup"
      ]
     },
     "execution_count": 6,
     "metadata": {},
     "output_type": "execute_result"
    }
   ],
   "source": [
    "type(parsed_markup)"
   ]
  },
  {
   "cell_type": "code",
   "execution_count": 7,
   "metadata": {},
   "outputs": [
    {
     "data": {
      "text/plain": [
       "<!DOCTYPE html>\n",
       "\n",
       "<html>\n",
       "<head>\n",
       "<title>GETTING STARTED WITH bs4</title>\n",
       "</head>\n",
       "<body>\n",
       "<div class=\"para 1\">\n",
       "<p>\n",
       "                This is paragraph one\n",
       "            </p>\n",
       "<p>\n",
       "                This is paragraph two\n",
       "            </p>\n",
       "</div>\n",
       "<div class=\"para 2\">\n",
       "<p>\n",
       "                This is para 1 in div 2\n",
       "            </p>\n",
       "</div>\n",
       "<div class=\"para 1\">\n",
       "<p>\n",
       "                This is paragraph three of div with class para 1\n",
       "            </p>\n",
       "<p>\n",
       "                This is paragraph four of div with class para 1\n",
       "            </p>\n",
       "</div>\n",
       "</body>\n",
       "</html>"
      ]
     },
     "execution_count": 7,
     "metadata": {},
     "output_type": "execute_result"
    }
   ],
   "source": [
    "parsed_markup"
   ]
  },
  {
   "cell_type": "code",
   "execution_count": 8,
   "metadata": {},
   "outputs": [
    {
     "data": {
      "text/plain": [
       "<title>GETTING STARTED WITH bs4</title>"
      ]
     },
     "execution_count": 8,
     "metadata": {},
     "output_type": "execute_result"
    }
   ],
   "source": [
    "parsed_markup.title"
   ]
  },
  {
   "cell_type": "code",
   "execution_count": 9,
   "metadata": {},
   "outputs": [
    {
     "data": {
      "text/plain": [
       "bs4.element.Tag"
      ]
     },
     "execution_count": 9,
     "metadata": {},
     "output_type": "execute_result"
    }
   ],
   "source": [
    "type(parsed_markup.title)"
   ]
  },
  {
   "cell_type": "code",
   "execution_count": 10,
   "metadata": {},
   "outputs": [
    {
     "data": {
      "text/plain": [
       "'GETTING STARTED WITH bs4'"
      ]
     },
     "execution_count": 10,
     "metadata": {},
     "output_type": "execute_result"
    }
   ],
   "source": [
    "parsed_markup.title.text"
   ]
  },
  {
   "cell_type": "code",
   "execution_count": 11,
   "metadata": {},
   "outputs": [
    {
     "data": {
      "text/plain": [
       "str"
      ]
     },
     "execution_count": 11,
     "metadata": {},
     "output_type": "execute_result"
    }
   ],
   "source": [
    "type(parsed_markup.title.text)"
   ]
  },
  {
   "cell_type": "code",
   "execution_count": 12,
   "metadata": {},
   "outputs": [
    {
     "data": {
      "text/plain": [
       "'GETTING STARTED WITH bs4'"
      ]
     },
     "execution_count": 12,
     "metadata": {},
     "output_type": "execute_result"
    }
   ],
   "source": [
    "parsed_markup.title.string"
   ]
  },
  {
   "cell_type": "code",
   "execution_count": 13,
   "metadata": {},
   "outputs": [
    {
     "data": {
      "text/plain": [
       "bs4.element.NavigableString"
      ]
     },
     "execution_count": 13,
     "metadata": {},
     "output_type": "execute_result"
    }
   ],
   "source": [
    "type(parsed_markup.title.string)"
   ]
  },
  {
   "cell_type": "code",
   "execution_count": 14,
   "metadata": {},
   "outputs": [
    {
     "data": {
      "text/plain": [
       "'bs4'"
      ]
     },
     "execution_count": 14,
     "metadata": {},
     "output_type": "execute_result"
    }
   ],
   "source": [
    "parsed_markup.title.text.split(\" \")[-1]"
   ]
  },
  {
   "cell_type": "code",
   "execution_count": 15,
   "metadata": {},
   "outputs": [
    {
     "data": {
      "text/plain": [
       "<div class=\"para 1\">\n",
       "<p>\n",
       "                This is paragraph one\n",
       "            </p>\n",
       "<p>\n",
       "                This is paragraph two\n",
       "            </p>\n",
       "</div>"
      ]
     },
     "execution_count": 15,
     "metadata": {},
     "output_type": "execute_result"
    }
   ],
   "source": [
    "parsed_markup.div"
   ]
  },
  {
   "cell_type": "code",
   "execution_count": 16,
   "metadata": {},
   "outputs": [
    {
     "data": {
      "text/plain": [
       "[<div class=\"para 1\">\n",
       " <p>\n",
       "                 This is paragraph one\n",
       "             </p>\n",
       " <p>\n",
       "                 This is paragraph two\n",
       "             </p>\n",
       " </div>,\n",
       " <div class=\"para 2\">\n",
       " <p>\n",
       "                 This is para 1 in div 2\n",
       "             </p>\n",
       " </div>,\n",
       " <div class=\"para 1\">\n",
       " <p>\n",
       "                 This is paragraph three of div with class para 1\n",
       "             </p>\n",
       " <p>\n",
       "                 This is paragraph four of div with class para 1\n",
       "             </p>\n",
       " </div>]"
      ]
     },
     "execution_count": 16,
     "metadata": {},
     "output_type": "execute_result"
    }
   ],
   "source": [
    "parsed_markup.find_all(\"div\")"
   ]
  },
  {
   "cell_type": "code",
   "execution_count": 17,
   "metadata": {},
   "outputs": [
    {
     "data": {
      "text/plain": [
       "[<div class=\"para 2\">\n",
       " <p>\n",
       "                 This is para 1 in div 2\n",
       "             </p>\n",
       " </div>]"
      ]
     },
     "execution_count": 17,
     "metadata": {},
     "output_type": "execute_result"
    }
   ],
   "source": [
    "parsed_markup.find_all(\"div\",class_='para 2')"
   ]
  },
  {
   "cell_type": "code",
   "execution_count": 18,
   "metadata": {},
   "outputs": [],
   "source": [
    "divs=parsed_markup.find_all(\"div\",class_='para 1')"
   ]
  },
  {
   "cell_type": "code",
   "execution_count": 19,
   "metadata": {},
   "outputs": [
    {
     "data": {
      "text/plain": [
       "[<div class=\"para 1\">\n",
       " <p>\n",
       "                 This is paragraph one\n",
       "             </p>\n",
       " <p>\n",
       "                 This is paragraph two\n",
       "             </p>\n",
       " </div>,\n",
       " <div class=\"para 1\">\n",
       " <p>\n",
       "                 This is paragraph three of div with class para 1\n",
       "             </p>\n",
       " <p>\n",
       "                 This is paragraph four of div with class para 1\n",
       "             </p>\n",
       " </div>]"
      ]
     },
     "execution_count": 19,
     "metadata": {},
     "output_type": "execute_result"
    }
   ],
   "source": [
    "divs"
   ]
  },
  {
   "cell_type": "code",
   "execution_count": 20,
   "metadata": {},
   "outputs": [
    {
     "data": {
      "text/plain": [
       "[<p>\n",
       "                 This is paragraph one\n",
       "             </p>,\n",
       " <p>\n",
       "                 This is paragraph two\n",
       "             </p>]"
      ]
     },
     "execution_count": 20,
     "metadata": {},
     "output_type": "execute_result"
    }
   ],
   "source": [
    "divs[0].find_all(\"p\")"
   ]
  },
  {
   "cell_type": "code",
   "execution_count": 21,
   "metadata": {},
   "outputs": [
    {
     "data": {
      "text/plain": [
       "<div class=\"para 1\">\n",
       "<p>\n",
       "                This is paragraph three of div with class para 1\n",
       "            </p>\n",
       "<p>\n",
       "                This is paragraph four of div with class para 1\n",
       "            </p>\n",
       "</div>"
      ]
     },
     "execution_count": 21,
     "metadata": {},
     "output_type": "execute_result"
    }
   ],
   "source": [
    "divs[1]"
   ]
  },
  {
   "cell_type": "code",
   "execution_count": 22,
   "metadata": {},
   "outputs": [
    {
     "name": "stdout",
     "output_type": "stream",
     "text": [
      "This is paragraph two\n",
      "This is paragraph four of div with class para 1\n"
     ]
    }
   ],
   "source": [
    "for i in parsed_markup.find_all(\"div\",class_=\"para 1\"):\n",
    "    paras=i.find_all(\"p\")\n",
    "    print(paras[1].text.strip())"
   ]
  },
  {
   "cell_type": "code",
   "execution_count": 23,
   "metadata": {},
   "outputs": [],
   "source": [
    "## Extracting data:\n",
    "para_data=[]\n",
    "for i in parsed_markup.find_all(\"div\",class_=\"para 1\"):\n",
    "    paras=i.find_all(\"p\")\n",
    "    para_data.append(paras[1].text.strip())"
   ]
  },
  {
   "cell_type": "code",
   "execution_count": 24,
   "metadata": {},
   "outputs": [
    {
     "data": {
      "text/plain": [
       "['This is paragraph two', 'This is paragraph four of div with class para 1']"
      ]
     },
     "execution_count": 24,
     "metadata": {},
     "output_type": "execute_result"
    }
   ],
   "source": [
    "para_data"
   ]
  },
  {
   "cell_type": "code",
   "execution_count": 25,
   "metadata": {},
   "outputs": [],
   "source": [
    "mydiv=parsed_markup.div"
   ]
  },
  {
   "cell_type": "code",
   "execution_count": 26,
   "metadata": {},
   "outputs": [
    {
     "data": {
      "text/plain": [
       "bs4.element.Tag"
      ]
     },
     "execution_count": 26,
     "metadata": {},
     "output_type": "execute_result"
    }
   ],
   "source": [
    "type(mydiv)"
   ]
  },
  {
   "cell_type": "code",
   "execution_count": 27,
   "metadata": {},
   "outputs": [
    {
     "data": {
      "text/plain": [
       "<div class=\"para 1\">\n",
       "<p>\n",
       "                This is paragraph one\n",
       "            </p>\n",
       "<p>\n",
       "                This is paragraph two\n",
       "            </p>\n",
       "</div>"
      ]
     },
     "execution_count": 27,
     "metadata": {},
     "output_type": "execute_result"
    }
   ],
   "source": [
    "mydiv"
   ]
  },
  {
   "cell_type": "code",
   "execution_count": 28,
   "metadata": {},
   "outputs": [
    {
     "name": "stdout",
     "output_type": "stream",
     "text": [
      "['para', '1']\n"
     ]
    }
   ],
   "source": [
    "print(mydiv['class'])"
   ]
  },
  {
   "cell_type": "code",
   "execution_count": 29,
   "metadata": {},
   "outputs": [],
   "source": [
    "body=parsed_markup.body"
   ]
  },
  {
   "cell_type": "code",
   "execution_count": 30,
   "metadata": {},
   "outputs": [
    {
     "data": {
      "text/plain": [
       "<body>\n",
       "<div class=\"para 1\">\n",
       "<p>\n",
       "                This is paragraph one\n",
       "            </p>\n",
       "<p>\n",
       "                This is paragraph two\n",
       "            </p>\n",
       "</div>\n",
       "<div class=\"para 2\">\n",
       "<p>\n",
       "                This is para 1 in div 2\n",
       "            </p>\n",
       "</div>\n",
       "<div class=\"para 1\">\n",
       "<p>\n",
       "                This is paragraph three of div with class para 1\n",
       "            </p>\n",
       "<p>\n",
       "                This is paragraph four of div with class para 1\n",
       "            </p>\n",
       "</div>\n",
       "</body>"
      ]
     },
     "execution_count": 30,
     "metadata": {},
     "output_type": "execute_result"
    }
   ],
   "source": [
    "body"
   ]
  },
  {
   "cell_type": "code",
   "execution_count": 31,
   "metadata": {},
   "outputs": [
    {
     "name": "stdout",
     "output_type": "stream",
     "text": [
      "\n",
      "***\n",
      "<div class=\"para 1\">\n",
      "<p>\n",
      "                This is paragraph one\n",
      "            </p>\n",
      "<p>\n",
      "                This is paragraph two\n",
      "            </p>\n",
      "</div>***\n",
      "\n",
      "***\n",
      "<div class=\"para 2\">\n",
      "<p>\n",
      "                This is para 1 in div 2\n",
      "            </p>\n",
      "</div>***\n",
      "\n",
      "***\n",
      "<div class=\"para 1\">\n",
      "<p>\n",
      "                This is paragraph three of div with class para 1\n",
      "            </p>\n",
      "<p>\n",
      "                This is paragraph four of div with class para 1\n",
      "            </p>\n",
      "</div>***\n",
      "\n",
      "***\n"
     ]
    }
   ],
   "source": [
    "for child in body.contents:\n",
    "    print(child if child is not None else '',end='***\\n')"
   ]
  },
  {
   "cell_type": "code",
   "execution_count": 32,
   "metadata": {},
   "outputs": [
    {
     "name": "stdout",
     "output_type": "stream",
     "text": [
      "\n",
      "***\n",
      "<div class=\"para 1\">\n",
      "<p>\n",
      "                This is paragraph one\n",
      "            </p>\n",
      "<p>\n",
      "                This is paragraph two\n",
      "            </p>\n",
      "</div>***\n",
      "\n",
      "***\n",
      "<div class=\"para 2\">\n",
      "<p>\n",
      "                This is para 1 in div 2\n",
      "            </p>\n",
      "</div>***\n",
      "\n",
      "***\n",
      "<div class=\"para 1\">\n",
      "<p>\n",
      "                This is paragraph three of div with class para 1\n",
      "            </p>\n",
      "<p>\n",
      "                This is paragraph four of div with class para 1\n",
      "            </p>\n",
      "</div>***\n",
      "\n",
      "***\n"
     ]
    }
   ],
   "source": [
    "for child in body.children:\n",
    "    print(child if child is not None else '',end='***\\n')"
   ]
  },
  {
   "cell_type": "code",
   "execution_count": 33,
   "metadata": {},
   "outputs": [
    {
     "name": "stdout",
     "output_type": "stream",
     "text": [
      "[<div class=\"para 1\">\n",
      "<p>\n",
      "                This is paragraph one\n",
      "            </p>\n",
      "<p>\n",
      "                This is paragraph two\n",
      "            </p>\n",
      "</div>, <div class=\"para 2\">\n",
      "<p>\n",
      "                This is para 1 in div 2\n",
      "            </p>\n",
      "</div>, <div class=\"para 1\">\n",
      "<p>\n",
      "                This is paragraph three of div with class para 1\n",
      "            </p>\n",
      "<p>\n",
      "                This is paragraph four of div with class para 1\n",
      "            </p>\n",
      "</div>]\n"
     ]
    }
   ],
   "source": [
    "#children = [child for child in body.contents if child != '\\n']\n",
    "#print(children)\n",
    "children=[]\n",
    "for child in body.contents:\n",
    "    if child != '\\n':\n",
    "        children.append(child)\n",
    "print(children)"
   ]
  },
  {
   "cell_type": "code",
   "execution_count": 34,
   "metadata": {},
   "outputs": [
    {
     "name": "stdout",
     "output_type": "stream",
     "text": [
      "1 -:<div class=\"para 1\">\n",
      "<p>\n",
      "                This is paragraph one\n",
      "            </p>\n",
      "<p>\n",
      "                This is paragraph two\n",
      "            </p>\n",
      "</div>\n",
      "3 -:<p>\n",
      "                This is paragraph one\n",
      "            </p>\n",
      "4 -:\n",
      "                This is paragraph one\n",
      "            \n",
      "6 -:<p>\n",
      "                This is paragraph two\n",
      "            </p>\n",
      "7 -:\n",
      "                This is paragraph two\n",
      "            \n",
      "10 -:<div class=\"para 2\">\n",
      "<p>\n",
      "                This is para 1 in div 2\n",
      "            </p>\n",
      "</div>\n",
      "12 -:<p>\n",
      "                This is para 1 in div 2\n",
      "            </p>\n",
      "13 -:\n",
      "                This is para 1 in div 2\n",
      "            \n",
      "16 -:<div class=\"para 1\">\n",
      "<p>\n",
      "                This is paragraph three of div with class para 1\n",
      "            </p>\n",
      "<p>\n",
      "                This is paragraph four of div with class para 1\n",
      "            </p>\n",
      "</div>\n",
      "18 -:<p>\n",
      "                This is paragraph three of div with class para 1\n",
      "            </p>\n",
      "19 -:\n",
      "                This is paragraph three of div with class para 1\n",
      "            \n",
      "21 -:<p>\n",
      "                This is paragraph four of div with class para 1\n",
      "            </p>\n",
      "22 -:\n",
      "                This is paragraph four of div with class para 1\n",
      "            \n"
     ]
    }
   ],
   "source": [
    "for index,child in enumerate(body.descendants):\n",
    "    if child != '\\n':\n",
    "        print(index,'-',end=':')\n",
    "        print(child if child != '\\n' else '\\\\n')"
   ]
  },
  {
   "cell_type": "code",
   "execution_count": null,
   "metadata": {},
   "outputs": [],
   "source": []
  }
 ],
 "metadata": {
  "kernelspec": {
   "display_name": "Python 3",
   "language": "python",
   "name": "python3"
  },
  "language_info": {
   "codemirror_mode": {
    "name": "ipython",
    "version": 3
   },
   "file_extension": ".py",
   "mimetype": "text/x-python",
   "name": "python",
   "nbconvert_exporter": "python",
   "pygments_lexer": "ipython3",
   "version": "3.7.6"
  }
 },
 "nbformat": 4,
 "nbformat_minor": 2
}
