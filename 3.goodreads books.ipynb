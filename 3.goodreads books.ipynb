{
 "cells": [
  {
   "cell_type": "code",
   "execution_count": 1,
   "metadata": {},
   "outputs": [],
   "source": [
    "from bs4 import BeautifulSoup\n",
    "from fake_useragent import UserAgent\n",
    "ua = UserAgent()\n",
    "headers = {'user-agent':ua.chrome}\n",
    "import requests"
   ]
  },
  {
   "cell_type": "code",
   "execution_count": 2,
   "metadata": {},
   "outputs": [],
   "source": [
    "### Class Excercise\n",
    "url=\"https://www.goodreads.com/list/show/19.Best_for_Book_Clubs\"\n",
    "resp=requests.get(url,headers=headers).text\n",
    "page=BeautifulSoup(resp,'html.parser')"
   ]
  },
  {
   "cell_type": "code",
   "execution_count": 3,
   "metadata": {},
   "outputs": [],
   "source": [
    "bookTitle=[]\n",
    "for i in page.find_all(\"a\",class_=\"bookTitle\"):\n",
    "    bookTitle.append(i.text.strip())"
   ]
  },
  {
   "cell_type": "code",
   "execution_count": 4,
   "metadata": {},
   "outputs": [],
   "source": [
    "# bookTitle=[i.text.strip() for i in page.find_all(\"a\",class_=\"bookTitle\")]"
   ]
  },
  {
   "cell_type": "code",
   "execution_count": 5,
   "metadata": {},
   "outputs": [],
   "source": [
    "author=[i.text.strip() for i in page.find_all(\"a\",class_=\"authorName\")]"
   ]
  },
  {
   "cell_type": "code",
   "execution_count": 6,
   "metadata": {},
   "outputs": [],
   "source": [
    "base_url=\"https://www.goodreads.com/list/show/19.Best_for_Book_Clubs?page={}\""
   ]
  },
  {
   "cell_type": "code",
   "execution_count": 7,
   "metadata": {},
   "outputs": [
    {
     "name": "stderr",
     "output_type": "stream",
     "text": [
      "100%|██████████████████████████████████████████████████████████████████████████████████| 10/10 [01:00<00:00,  6.10s/it]\n"
     ]
    }
   ],
   "source": [
    "booktitle=[]\n",
    "author=[]\n",
    "from tqdm import tqdm\n",
    "for i in tqdm(range(1,11)):\n",
    "    url=base_url.format(i)\n",
    "    resp=requests.get(url).text\n",
    "    page=BeautifulSoup(resp,'html.parser')\n",
    "    for i in page.find_all(\"a\",class_=\"bookTitle\"):\n",
    "        booktitle.append(i.text)\n",
    "    for i in page.find_all(\"a\",class_=\"authorName\"):\n",
    "        author.append(i.text)"
   ]
  },
  {
   "cell_type": "code",
   "execution_count": 8,
   "metadata": {},
   "outputs": [],
   "source": [
    "import pandas as pd"
   ]
  },
  {
   "cell_type": "code",
   "execution_count": 9,
   "metadata": {},
   "outputs": [
    {
     "data": {
      "text/html": [
       "<div>\n",
       "<style scoped>\n",
       "    .dataframe tbody tr th:only-of-type {\n",
       "        vertical-align: middle;\n",
       "    }\n",
       "\n",
       "    .dataframe tbody tr th {\n",
       "        vertical-align: top;\n",
       "    }\n",
       "\n",
       "    .dataframe thead th {\n",
       "        text-align: right;\n",
       "    }\n",
       "</style>\n",
       "<table border=\"1\" class=\"dataframe\">\n",
       "  <thead>\n",
       "    <tr style=\"text-align: right;\">\n",
       "      <th></th>\n",
       "      <th>booktitle</th>\n",
       "      <th>author</th>\n",
       "    </tr>\n",
       "  </thead>\n",
       "  <tbody>\n",
       "    <tr>\n",
       "      <th>0</th>\n",
       "      <td>\\nThe Help\\n</td>\n",
       "      <td>Kathryn Stockett</td>\n",
       "    </tr>\n",
       "    <tr>\n",
       "      <th>1</th>\n",
       "      <td>\\nThe Kite Runner\\n</td>\n",
       "      <td>Khaled Hosseini</td>\n",
       "    </tr>\n",
       "    <tr>\n",
       "      <th>2</th>\n",
       "      <td>\\nWater for Elephants\\n</td>\n",
       "      <td>Sara Gruen</td>\n",
       "    </tr>\n",
       "    <tr>\n",
       "      <th>3</th>\n",
       "      <td>\\nThe Book Thief\\n</td>\n",
       "      <td>Markus Zusak</td>\n",
       "    </tr>\n",
       "    <tr>\n",
       "      <th>4</th>\n",
       "      <td>\\nTo Kill a Mockingbird\\n</td>\n",
       "      <td>Harper Lee</td>\n",
       "    </tr>\n",
       "  </tbody>\n",
       "</table>\n",
       "</div>"
      ],
      "text/plain": [
       "                   booktitle            author\n",
       "0               \\nThe Help\\n  Kathryn Stockett\n",
       "1        \\nThe Kite Runner\\n   Khaled Hosseini\n",
       "2    \\nWater for Elephants\\n        Sara Gruen\n",
       "3         \\nThe Book Thief\\n      Markus Zusak\n",
       "4  \\nTo Kill a Mockingbird\\n        Harper Lee"
      ]
     },
     "execution_count": 9,
     "metadata": {},
     "output_type": "execute_result"
    }
   ],
   "source": [
    "table=pd.DataFrame({'booktitle':booktitle,'author':author})\n",
    "table.head()"
   ]
  },
  {
   "cell_type": "code",
   "execution_count": null,
   "metadata": {},
   "outputs": [],
   "source": []
  }
 ],
 "metadata": {
  "kernelspec": {
   "display_name": "Python 3",
   "language": "python",
   "name": "python3"
  },
  "language_info": {
   "codemirror_mode": {
    "name": "ipython",
    "version": 3
   },
   "file_extension": ".py",
   "mimetype": "text/x-python",
   "name": "python",
   "nbconvert_exporter": "python",
   "pygments_lexer": "ipython3",
   "version": "3.7.6"
  }
 },
 "nbformat": 4,
 "nbformat_minor": 4
}
